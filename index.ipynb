{
 "cells": [
  {
   "attachments": {},
   "cell_type": "markdown",
   "metadata": {},
   "source": [
    "# Hurricane Analysis\n",
    "## Practice for Python Dictionaries, Lists and String manipulation\n",
    "### Project from Codecademy"
   ]
  },
  {
   "cell_type": "code",
   "execution_count": 3,
   "metadata": {},
   "outputs": [],
   "source": [
    "# main variables\n",
    "# names of hurricanes\n",
    "names = ['Cuba I', 'San Felipe II Okeechobee', 'Bahamas', 'Cuba II', 'CubaBrownsville', 'Tampico', 'Labor Day', 'New England', 'Carol', 'Janet', 'Carla', 'Hattie', 'Beulah', 'Camille', 'Edith', 'Anita', 'David', 'Allen', 'Gilbert', 'Hugo', 'Andrew', 'Mitch', 'Isabel', 'Ivan', 'Emily', 'Katrina', 'Rita', 'Wilma', 'Dean', 'Felix', 'Matthew', 'Irma', 'Maria', 'Michael']\n",
    "\n",
    "# months of hurricanes\n",
    "months = ['October', 'September', 'September', 'November', 'August', 'September', 'September', 'September', 'September', 'September', 'September', 'October', 'September', 'August', 'September', 'September', 'August', 'August', 'September', 'September', 'August', 'October', 'September', 'September', 'July', 'August', 'September', 'October', 'August', 'September', 'October', 'September', 'September', 'October']\n",
    "\n",
    "# years of hurricanes\n",
    "years = [1924, 1928, 1932, 1932, 1933, 1933, 1935, 1938, 1953, 1955, 1961, 1961, 1967, 1969, 1971, 1977, 1979, 1980, 1988, 1989, 1992, 1998, 2003, 2004, 2005, 2005, 2005, 2005, 2007, 2007, 2016, 2017, 2017, 2018]\n",
    "\n",
    "# maximum sustained winds (mph) of hurricanes\n",
    "max_sustained_winds = [165, 160, 160, 175, 160, 160, 185, 160, 160, 175, 175, 160, 160, 175, 160, 175, 175, 190, 185, 160, 175, 180, 165, 165, 160, 175, 180, 185, 175, 175, 165, 180, 175, 160]\n",
    "\n",
    "# areas affected by each hurricane\n",
    "areas_affected = [['Central America', 'Mexico', 'Cuba', 'Florida', 'The Bahamas'], ['Lesser Antilles', 'The Bahamas', 'United States East Coast', 'Atlantic Canada'], ['The Bahamas', 'Northeastern United States'], ['Lesser Antilles', 'Jamaica', 'Cayman Islands', 'Cuba', 'The Bahamas', 'Bermuda'], ['The Bahamas', 'Cuba', 'Florida', 'Texas', 'Tamaulipas'], ['Jamaica', 'Yucatn Peninsula'], ['The Bahamas', 'Florida', 'Georgia', 'The Carolinas', 'Virginia'], ['Southeastern United States', 'Northeastern United States', 'Southwestern Quebec'], ['Bermuda', 'New England', 'Atlantic Canada'], ['Lesser Antilles', 'Central America'], ['Texas', 'Louisiana', 'Midwestern United States'], ['Central America'], ['The Caribbean', 'Mexico', 'Texas'], ['Cuba', 'United States Gulf Coast'], ['The Caribbean', 'Central America', 'Mexico', 'United States Gulf Coast'], ['Mexico'], ['The Caribbean', 'United States East coast'], ['The Caribbean', 'Yucatn Peninsula', 'Mexico', 'South Texas'], ['Jamaica', 'Venezuela', 'Central America', 'Hispaniola', 'Mexico'], ['The Caribbean', 'United States East Coast'], ['The Bahamas', 'Florida', 'United States Gulf Coast'], ['Central America', 'Yucatn Peninsula', 'South Florida'], ['Greater Antilles', 'Bahamas', 'Eastern United States', 'Ontario'], ['The Caribbean', 'Venezuela', 'United States Gulf Coast'], ['Windward Islands', 'Jamaica', 'Mexico', 'Texas'], ['Bahamas', 'United States Gulf Coast'], ['Cuba', 'United States Gulf Coast'], ['Greater Antilles', 'Central America', 'Florida'], ['The Caribbean', 'Central America'], ['Nicaragua', 'Honduras'], ['Antilles', 'Venezuela', 'Colombia', 'United States East Coast', 'Atlantic Canada'], ['Cape Verde', 'The Caribbean', 'British Virgin Islands', 'U.S. Virgin Islands', 'Cuba', 'Florida'], ['Lesser Antilles', 'Virgin Islands', 'Puerto Rico', 'Dominican Republic', 'Turks and Caicos Islands'], ['Central America', 'United States Gulf Coast (especially Florida Panhandle)']]\n",
    "\n",
    "# damages (USD($)) of hurricanes\n",
    "damages = ['Damages not recorded', '100M', 'Damages not recorded', '40M', '27.9M', '5M', 'Damages not recorded', '306M', '2M', '65.8M', '326M', '60.3M', '208M', '1.42B', '25.4M', 'Damages not recorded', '1.54B', '1.24B', '7.1B', '10B', '26.5B', '6.2B', '5.37B', '23.3B', '1.01B', '125B', '12B', '29.4B', '1.76B', '720M', '15.1B', '64.8B', '91.6B', '25.1B']\n",
    "\n",
    "# deaths for each hurricane\n",
    "deaths = [90,4000,16,3103,179,184,408,682,5,1023,43,319,688,259,37,11,2068,269,318,107,65,19325,51,124,17,1836,125,87,45,133,603,138,3057,74]"
   ]
  },
  {
   "cell_type": "code",
   "execution_count": 20,
   "metadata": {},
   "outputs": [],
   "source": [
    "# 1\n",
    "# Update Recorded Damages\n",
    "conversion = {\"M\": 1000000,\n",
    "              \"B\": 1000000000}\n",
    "\n",
    "def updated_damages():\n",
    "  result = []\n",
    "  for damage in damages:\n",
    "    value = list(damage)\n",
    "    prefix = value.pop()\n",
    "    if prefix in conversion:\n",
    "      value = float(\"\".join(value))\n",
    "      result.append(value * conversion[prefix])\n",
    "    else:\n",
    "      result.append(damage)\n",
    "  return result\n",
    "\n",
    "updated_damages = updated_damages()\n",
    "# Uncomment for debugging data\n",
    "# print(\"updated damages\")\n",
    "# for item in updated_damages:\n",
    "#   print(item)"
   ]
  },
  {
   "cell_type": "code",
   "execution_count": 18,
   "metadata": {},
   "outputs": [],
   "source": [
    "# 2\n",
    "# Create dictionary from variables\n",
    "def hurricanes():\n",
    "  result = []\n",
    "  \n",
    "  for i in range(len(names)):\n",
    "    result.append({\n",
    "      \"Name\":names[i],\n",
    "      \"Month\":months[i],\n",
    "      \"Year\":years[i],\n",
    "      \"Max Sustained Wind\":max_sustained_winds[i],\n",
    "      \"Areas Affected\":areas_affected[i],\n",
    "      \"Damage\":updated_damages[i],\n",
    "      \"Deaths\":deaths[i]\n",
    "      })\n",
    "\n",
    "  return result\n",
    "\n",
    "hurricanes = hurricanes()\n",
    "# Uncomment for debugging data\n",
    "# print('hurricanes')\n",
    "# for hurricane in hurricanes:\n",
    "#   print(hurricane)\n"
   ]
  },
  {
   "cell_type": "code",
   "execution_count": 19,
   "metadata": {},
   "outputs": [],
   "source": [
    "# 3\n",
    "# Organizing by Year\n",
    "\n",
    "def use_year_as_key():\n",
    "  results = []\n",
    "  for hurricane in hurricanes:\n",
    "    result = {}\n",
    "    current_year = hurricane['Year']\n",
    "    current_cane = hurricane\n",
    "    result = result.get(current_year,{current_year: current_cane})\n",
    "    results.append(result)\n",
    "  return results\n",
    "\n",
    "use_year_as_key = use_year_as_key()\n",
    "# Uncomment for debugging data\n",
    "# print(\"Hurricanes by Year\")\n",
    "# for hurricane in use_year_as_key:\n",
    "#   print(hurricane)"
   ]
  },
  {
   "cell_type": "code",
   "execution_count": 7,
   "metadata": {},
   "outputs": [
    {
     "name": "stdout",
     "output_type": "stream",
     "text": [
      "Count Affected areas\n",
      "Central America : 9\n",
      "Mexico : 7\n",
      "Cuba : 6\n",
      "Florida : 6\n",
      "The Bahamas : 7\n",
      "Lesser Antilles : 4\n",
      "United States East Coast : 3\n",
      "Atlantic Canada : 3\n",
      "Northeastern United States : 2\n",
      "Jamaica : 4\n",
      "Cayman Islands : 1\n",
      "Bermuda : 2\n",
      "Texas : 4\n",
      "Tamaulipas : 1\n",
      "Yucatn Peninsula : 3\n",
      "Georgia : 1\n",
      "The Carolinas : 1\n",
      "Virginia : 1\n",
      "Southeastern United States : 1\n",
      "Southwestern Quebec : 1\n",
      "New England : 1\n",
      "Louisiana : 1\n",
      "Midwestern United States : 1\n",
      "The Caribbean : 8\n",
      "United States Gulf Coast : 6\n",
      "United States East coast : 1\n",
      "South Texas : 1\n",
      "Venezuela : 3\n",
      "Hispaniola : 1\n",
      "South Florida : 1\n",
      "Greater Antilles : 2\n",
      "Bahamas : 2\n",
      "Eastern United States : 1\n",
      "Ontario : 1\n",
      "Windward Islands : 1\n",
      "Nicaragua : 1\n",
      "Honduras : 1\n",
      "Antilles : 1\n",
      "Colombia : 1\n",
      "Cape Verde : 1\n",
      "British Virgin Islands : 1\n",
      "U.S. Virgin Islands : 1\n",
      "Virgin Islands : 1\n",
      "Puerto Rico : 1\n",
      "Dominican Republic : 1\n",
      "Turks and Caicos Islands : 1\n",
      "United States Gulf Coast (especially Florida Panhandle) : 1\n"
     ]
    }
   ],
   "source": [
    "# 4\n",
    "# Counting Damaged Areas\n",
    "def affected_areas():\n",
    "  results = {}\n",
    "  for area in areas_affected:\n",
    "    for affected in area:\n",
    "      count = results.get(affected,0)\n",
    "      results[affected] = count + 1\n",
    "  return results\n",
    "\n",
    "affected_areas = affected_areas()\n",
    "print(\"Count Affected areas\")\n",
    "# print(affected_areas)\n",
    "for key,value in affected_areas.items():\n",
    "  print(key, ':',value)"
   ]
  },
  {
   "cell_type": "code",
   "execution_count": 16,
   "metadata": {},
   "outputs": [
    {
     "name": "stdout",
     "output_type": "stream",
     "text": [
      "Most afected area:  Central America => 9\n"
     ]
    }
   ],
   "source": [
    "# 5 \n",
    "# Calculating Maximum Hurricane Count\n",
    "def most_afected_area():\n",
    "  result = ''\n",
    "  count = 0\n",
    "  \n",
    "  for key, value in affected_areas.items():\n",
    "    if value > count:\n",
    "      count = value\n",
    "      result = key\n",
    "\n",
    "  return result, count\n",
    "\n",
    "most_afected_area, count = most_afected_area()\n",
    "print('Most afected area: ',most_afected_area, '=>', count)"
   ]
  },
  {
   "cell_type": "code",
   "execution_count": 15,
   "metadata": {},
   "outputs": [
    {
     "name": "stdout",
     "output_type": "stream",
     "text": [
      "Deadliest Hurricane:  Mitch => 19325\n"
     ]
    }
   ],
   "source": [
    "# 6\n",
    "# Calculating the Deadliest Hurricane\n",
    "def deadliest_hurricane():\n",
    "  result = ''\n",
    "  count = 0\n",
    "\n",
    "  for i in range(len(names)):\n",
    "    deaths_ = deaths[i]\n",
    "    if deaths_ > count:\n",
    "      count = deaths_\n",
    "      result = names[i]\n",
    "\n",
    "  return result, count\n",
    "\n",
    "deadliest_hurricane, count = deadliest_hurricane()\n",
    "print('Deadliest Hurricane: ',deadliest_hurricane,'=>', count)"
   ]
  },
  {
   "cell_type": "code",
   "execution_count": 37,
   "metadata": {},
   "outputs": [
    {
     "name": "stdout",
     "output_type": "stream",
     "text": [
      "Rates by Mortality\n",
      "Rate 0 : ['Cuba I', 'Bahamas', 'Carol', 'Carla', 'Edith', 'Anita', 'Andrew', 'Isabel', 'Emily', 'Wilma', 'Dean', 'Michael']\n",
      "Rate 1 : ['CubaBrownsville', 'Tampico', 'Labor Day', 'Hattie', 'Camille', 'Allen', 'Gilbert', 'Hugo', 'Ivan', 'Rita', 'Felix', 'Irma']\n",
      "Rate 2 : ['New England', 'Beulah', 'Matthew']\n",
      "Rate 3 : ['San Felipe II Okeechobee', 'Cuba II', 'Janet', 'David', 'Katrina', 'Maria']\n",
      "Rate 4 : []\n",
      "Rate 5 : ['Mitch']\n"
     ]
    }
   ],
   "source": [
    "# 7\n",
    "# Rating Hurricanes by Mortality\n",
    "mortality_scale = {\n",
    "    0: 0,\n",
    "    1: 100,\n",
    "    2: 500,\n",
    "    3: 1000,\n",
    "    4: 10000\n",
    "}\n",
    "def mortality_rates():\n",
    "  result = {0:[],1:[],2:[],3:[],4:[],5:[]}\n",
    "  for i in range(len(names)):\n",
    "    deaths_ = deaths[i]\n",
    "    name = names[i]\n",
    "    for key, value in mortality_scale.items():\n",
    "      next_rate = mortality_scale.get(key + 1)\n",
    "      if next_rate:\n",
    "        if deaths_ >= value and deaths_ <= next_rate:\n",
    "          result[key].append(name)\n",
    "          break\n",
    "      else:\n",
    "        result[key + 1].append(name)\n",
    "  return result\n",
    "\n",
    "mortality_rates = mortality_rates()\n",
    "print(\"Rates by Mortality\")\n",
    "for key,value in mortality_rates.items():\n",
    "  print(\"Rate\", key, \":\",value)\n"
   ]
  },
  {
   "cell_type": "code",
   "execution_count": 17,
   "metadata": {},
   "outputs": [
    {
     "name": "stdout",
     "output_type": "stream",
     "text": [
      "Hurricane Maximum Damage:  Katrina => 125000000000.0\n"
     ]
    }
   ],
   "source": [
    "# 8 Calculating Hurricane Maximum Damage\n",
    "# Find highest damage inducing hurricane and its total cost\n",
    "def maximun_damage():\n",
    "  result = ''\n",
    "  count = 0\n",
    "\n",
    "  for i in range(len(names)):\n",
    "    damage_ = updated_damages[i]\n",
    "\n",
    "    if damage_ != 'Damages not recorded' and int(damage_) > count:\n",
    "      count = damage_\n",
    "      result = names[i]\n",
    "\n",
    "  return result, count\n",
    "\n",
    "maximun_damage, count = maximun_damage()\n",
    "print('Hurricane Maximum Damage: ',maximun_damage, '=>', count)"
   ]
  },
  {
   "cell_type": "code",
   "execution_count": 40,
   "metadata": {},
   "outputs": [
    {
     "name": "stdout",
     "output_type": "stream",
     "text": [
      "Rates by Damage\n",
      "Rate 0 : ['Cuba I', 'Bahamas', 'Carol', 'Carla', 'Edith', 'Anita', 'Andrew', 'Isabel', 'Emily', 'Wilma', 'Dean', 'Michael']\n",
      "Rate 1 : ['CubaBrownsville', 'Tampico', 'Labor Day', 'Hattie', 'Camille', 'Allen', 'Gilbert', 'Hugo', 'Ivan', 'Rita', 'Felix', 'Irma']\n",
      "Rate 2 : ['New England', 'Beulah', 'Matthew']\n",
      "Rate 3 : ['San Felipe II Okeechobee', 'Cuba II', 'Janet', 'David', 'Katrina', 'Maria']\n",
      "Rate 4 : []\n",
      "Rate 5 : ['Mitch']\n"
     ]
    }
   ],
   "source": [
    "# 9\n",
    "# Rating Hurricanes by Damage\n",
    "# categorize hurricanes in new dictionary with damage severity as key\n",
    "damage_scale = {\n",
    "    0: 0,\n",
    "    1: 100000000,\n",
    "    2: 1000000000,\n",
    "    3: 10000000000,\n",
    "    4: 50000000000\n",
    "}\n",
    "\n",
    "def damage_rates():\n",
    "  result = {0:[],1:[],2:[],3:[],4:[],5:[]}\n",
    "\n",
    "  for i in range(len(names)):\n",
    "    damage_ = updated_damages[i]\n",
    "    name = names[i]\n",
    "    for key, value in damage_scale.items():\n",
    "      next_rate = damage_scale.get(key+ 1)\n",
    "      if next_rate:\n",
    "        if damage_ != 'Damages not recorded' and damage_ >= value and damage_ <= next_rate:\n",
    "          result[key].append(name)\n",
    "          break\n",
    "      elif damage_ != 'Damages not recorded':\n",
    "        result[key + 1].append(name)\n",
    "    \n",
    "  return result\n",
    "\n",
    "damage_rates = damage_rates()\n",
    "print(\"Rates by Damage\")\n",
    "for key,value in mortality_rates.items():\n",
    "  print(\"Rate\", key, \":\",value)"
   ]
  },
  {
   "cell_type": "code",
   "execution_count": 13,
   "metadata": {},
   "outputs": [],
   "source": [
    "# Create DataFrame and CSV\n",
    "import pandas as pd\n",
    "df = pd.DataFrame(hurricanes)\n",
    "df.to_csv('output.csv', index=False)"
   ]
  }
 ],
 "metadata": {
  "kernelspec": {
   "display_name": "Python 3",
   "language": "python",
   "name": "python3"
  },
  "language_info": {
   "codemirror_mode": {
    "name": "ipython",
    "version": 3
   },
   "file_extension": ".py",
   "mimetype": "text/x-python",
   "name": "python",
   "nbconvert_exporter": "python",
   "pygments_lexer": "ipython3",
   "version": "3.10.9"
  },
  "orig_nbformat": 4
 },
 "nbformat": 4,
 "nbformat_minor": 2
}
